{
 "cells": [
  {
   "cell_type": "markdown",
   "id": "78571135",
   "metadata": {},
   "source": [
    "# Problem Set 2 : BDAT 1004 – Data Programming"
   ]
  },
  {
   "cell_type": "markdown",
   "id": "f1d38feb",
   "metadata": {},
   "source": [
    "Question 1 :"
   ]
  },
  {
   "cell_type": "code",
   "execution_count": 10,
   "id": "83f95796",
   "metadata": {
    "scrolled": true
   },
   "outputs": [
    {
     "data": {
      "text/plain": [
       "6"
      ]
     },
     "execution_count": 10,
     "metadata": {},
     "output_type": "execute_result"
    }
   ],
   "source": [
    "a = 0\n",
    "def b():\n",
    "    global a\n",
    "    a = c(a)\n",
    "def c(a):\n",
    "    return a + 2\n",
    "\n",
    "b()\n",
    "b()\n",
    "b()\n",
    "a"
   ]
  },
  {
   "cell_type": "markdown",
   "id": "0ad57862",
   "metadata": {
    "slideshow": {
     "slide_type": "slide"
    }
   },
   "source": [
    "The result would be 6, as b() is calling c(),\n",
    "which is incrementing the storing the value in every iteration, so it looks like below:\n",
    "a = 0+2 = 2\n",
    "a = 2+2 = 4\n",
    "a = 4+2 = 6\n",
    "a = 6"
   ]
  },
  {
   "cell_type": "markdown",
   "id": "2930faad",
   "metadata": {},
   "source": [
    "Question 2 :"
   ]
  },
  {
   "cell_type": "code",
   "execution_count": 11,
   "id": "d9fda30a",
   "metadata": {
    "scrolled": false
   },
   "outputs": [
    {
     "name": "stdout",
     "output_type": "stream",
     "text": [
      "File idterm.py not found.\n"
     ]
    }
   ],
   "source": [
    "def filelength(filename):\n",
    "    try:\n",
    "        file_open = open(filename)\n",
    "        data = file_open.read()\n",
    "        file_open.close()\n",
    "        print(len(data))\n",
    "    except:\n",
    "        print(\"File \" +filename + \" not found.\")\n",
    "filelength('idterm.py')"
   ]
  },
  {
   "cell_type": "markdown",
   "id": "93adc4e0",
   "metadata": {},
   "source": [
    "Question 3:"
   ]
  },
  {
   "cell_type": "code",
   "execution_count": 13,
   "id": "ee0e9935",
   "metadata": {
    "scrolled": true
   },
   "outputs": [
    {
     "name": "stdout",
     "output_type": "stream",
     "text": [
      "['doll', 'firetruck', 'kitten']\n",
      "I am kangaroo located at coordinates (0,0)\n",
      "['doll', 'firetruck', 'kitten']\n",
      "I am kangaroo located at coordinates (3,0)\n"
     ]
    }
   ],
   "source": [
    "class Marsupial:\n",
    "    def __init__(self):\n",
    "         self.pouch = []\n",
    "    def put_in_pouch(self,name):\n",
    "          self.pouch.append(name)\n",
    "    def pouch_contents(self):\n",
    "          print(self.pouch)\n",
    "\n",
    "c1 = Marsupial()\n",
    "c1.put_in_pouch('doll')\n",
    "c1.put_in_pouch('firetruck')\n",
    "c1.put_in_pouch('kitten')\n",
    "c1.pouch_contents()\n",
    "\n",
    "class Kangaroo(Marsupial):\n",
    "  def __init__(self,x,y):\n",
    "    super().__init__()\n",
    "    self.x = x\n",
    "    self.y = y\n",
    "  \n",
    "  def jump(self,dx,dy):\n",
    "    self.x += dx\n",
    "    self.y += dy\n",
    "  \n",
    "  def __str__(self):\n",
    "    return f\"I am kangaroo located at coordinates ({self.x},{self.y})\"\n",
    "\n",
    "k = Kangaroo(0,0)\n",
    "print(k)\n",
    "k.put_in_pouch('doll')\n",
    "k.put_in_pouch('firetruck')\n",
    "k.put_in_pouch('kitten')\n",
    "k.pouch_contents()\n",
    "k.jump(1,0)\n",
    "k.jump(1,0)\n",
    "k.jump(1,0)\n",
    "print(k)"
   ]
  },
  {
   "cell_type": "markdown",
   "id": "30c1c555",
   "metadata": {},
   "source": [
    "Question 4:"
   ]
  },
  {
   "cell_type": "code",
   "execution_count": 36,
   "id": "dfcc24c5",
   "metadata": {
    "scrolled": false
   },
   "outputs": [
    {
     "name": "stdout",
     "output_type": "stream",
     "text": [
      "Please enter the value of n: 10\n",
      "10\n",
      "5\n",
      "16\n",
      "8\n",
      "4\n",
      "2\n",
      "1\n"
     ]
    }
   ],
   "source": [
    " def collatz(x):\n",
    "\n",
    "#Using while loop to check if x is not equal to 1,once x = 1 then the loop is terminated.\n",
    "    \n",
    "    while x!=1:\n",
    "        \n",
    "        print(x)\n",
    "\n",
    "        #Checking if x is odd/even\n",
    "       \n",
    "        if x%2 == 0:\n",
    "                \n",
    "            #x is even we divide it by 2 as x=x/2 \n",
    "            \n",
    "            x=x//2\n",
    "        \n",
    "        else:\n",
    "            \n",
    "            #If x is odd then we update x as x=3*x+1\n",
    "            \n",
    "            x=3*x+1\n",
    "    \n",
    "            #Printing 1 forcefully to terminate the loop \n",
    "    \n",
    "    print(1)\n",
    "\n",
    "\n",
    "\n",
    "  #Taking the input from the user\n",
    "\n",
    "x=int(input(\"Please enter the value of n: \"))\n",
    "\n",
    "\n",
    "#calling the defined fxn\n",
    "collatz(x)\n"
   ]
  },
  {
   "cell_type": "markdown",
   "id": "d9165112",
   "metadata": {
    "slideshow": {
     "slide_type": "-"
    }
   },
   "source": [
    "Question 5:"
   ]
  },
  {
   "cell_type": "code",
   "execution_count": 24,
   "id": "4835cdd5",
   "metadata": {
    "scrolled": false
   },
   "outputs": [
    {
     "name": "stdout",
     "output_type": "stream",
     "text": [
      "0\n",
      "1\n",
      "11\n",
      "1001\n"
     ]
    }
   ],
   "source": [
    "# Decimal to binary conversion\n",
    "# using recursion\n",
    "def get_binary(number):\n",
    "   \n",
    "    # Base case\n",
    "    if number == 0:\n",
    "        return 0\n",
    "       \n",
    "     # Recursion call and storing the result\n",
    "    small_ans = get_binary(number // 2)\n",
    "     \n",
    "    return number % 2 + 10 * small_ans\n",
    "   \n",
    "# Driver Code\n",
    "\n",
    "print(get_binary(0))\n",
    "print(get_binary(1))\n",
    "print(get_binary(3))\n",
    "print(get_binary(9))\n"
   ]
  },
  {
   "cell_type": "markdown",
   "id": "71b1bb7a",
   "metadata": {},
   "source": [
    "Question 6:"
   ]
  },
  {
   "cell_type": "code",
   "execution_count": 26,
   "id": "2af4c8c0",
   "metadata": {
    "scrolled": false
   },
   "outputs": [
    {
     "name": "stdout",
     "output_type": "stream",
     "text": [
      "\n",
      "\n",
      "\n",
      "\n",
      "\n",
      "\n",
      "  \n",
      "\n",
      "  \n",
      "\n",
      "  \n",
      "Change_me\n",
      "\n",
      "  \n",
      "\n",
      "  \n",
      "\n",
      "  \n",
      "\n",
      "\n",
      "\n",
      "\n",
      "\n",
      "\n",
      "  \n",
      "\t\n",
      "h1\n",
      "W3C Mission\n",
      "h1\n",
      "\n",
      "\t\n",
      "h2\n",
      "Principles\n",
      "h2\n",
      "\n",
      " \n",
      "\n",
      "\n",
      "\n",
      "\n",
      "\n"
     ]
    }
   ],
   "source": [
    "from html.parser import HTMLParser\n",
    "\n",
    "# Importing from Html parser\n",
    "class HeadingParser(HTMLParser):\n",
    "    # Define the headings\n",
    "    headers = ['h1', 'h2', 'h3', 'h4', 'h5', 'h6']\n",
    "\n",
    "    # Handle the functions\n",
    "    def handle_starttag(self, tag, attrs):\n",
    "        if tag in self.headers:\n",
    "            print(tag)\n",
    "\n",
    "    def handle_endtag(self, tag):\n",
    "        if tag in self.headers:\n",
    "            print(tag)\n",
    "\n",
    "    def handle_data(self, data):\n",
    "        print(data)\n",
    "\n",
    "# TEST HERE\n",
    "parser = HeadingParser()\n",
    "infile = open('w3c.html')\n",
    "content = infile.read()\n",
    "infile.close()\n",
    "hp = HeadingParser()\n",
    "hp.feed(content)\n"
   ]
  },
  {
   "cell_type": "markdown",
   "id": "3ba416fb",
   "metadata": {},
   "source": [
    "Question 7:"
   ]
  },
  {
   "cell_type": "code",
   "execution_count": 34,
   "id": "81ff4738",
   "metadata": {},
   "outputs": [],
   "source": []
  },
  {
   "cell_type": "markdown",
   "id": "91805733",
   "metadata": {},
   "source": [
    "Question : 8"
   ]
  },
  {
   "cell_type": "markdown",
   "id": "e437b797",
   "metadata": {
    "slideshow": {
     "slide_type": "fragment"
    }
   },
   "source": [
    "\n",
    "#Creating a table:\n",
    "\n",
    "CREATE TABLE whether\n",
    "(\n",
    "city varchar(15),\n",
    "countrt varchar(15),\n",
    "season varchar(15),\n",
    "temperature float,\n",
    "rainfall float\n",
    ");\n",
    "\n",
    "\n",
    "\n",
    "#Inserting values into table: \n",
    "\n",
    "INSERT INTO whether VALUES('Mumbai', 'India', 'Winter', 24.8,5.9),\n",
    "('Mumbai', 'India', 'Spring', 28.4,16.2),\n",
    "('Mumbai', 'India', 'Summer', 27.9,1549.4),\n",
    "('Mumbai', 'India', 'Fall', 27.6,346.0),\n",
    "('London', 'United kingdom', 'Winter', 4.2,207.7),\n",
    "('London', 'United kingdom', 'Spring', 8.3,169.6),\n",
    "('London', 'United kingdom','Summer', 15.7,157.0),\n",
    "('London', 'United kingdom','Fall', 10.4,218.5),\n",
    "('Cairo', 'Egypt','Winter', 13.6,16.5),\n",
    "('Cairo', 'Egypt', 'Spring', 20.7,6.5);\n",
    "\n",
    "\n",
    "\n",
    "#Quering the created table : \n",
    "\n",
    "1. SELECT temprature from city;\n",
    "2. SELECT DISTINCT city from city;\n",
    "3. SELECT * from city WHERE country ='India';\n",
    "4. SELECT * from city WHERE season = 'Fall';\n",
    "5. SELECT city, country, season, rainfall FROM city where rainfall BETWEEN 200 and 400;\n",
    "6. SELECT city, country,season,temprature FROM city where (temprature > 20 and season = 'Fall') order by temprature;\n",
    "7. SELECT SUM(rainfall) FROM city where city ='Cairo';\n",
    "8. SELECT season,sum(rainfall) as sum_rainfall from city GROUP BY season;\n"
   ]
  },
  {
   "cell_type": "markdown",
   "id": "267b3c07",
   "metadata": {},
   "source": [
    "Question : 9"
   ]
  },
  {
   "cell_type": "code",
   "execution_count": 33,
   "id": "4c37aa13",
   "metadata": {
    "scrolled": true
   },
   "outputs": [
    {
     "name": "stdout",
     "output_type": "stream",
     "text": [
      "['THE', 'QUICK', 'BROWN', 'FOX', 'JUMPS', 'OVER', 'THE', 'LAZY', 'DOG']\n",
      "['the', 'quick', 'brown', 'fox', 'jumps', 'over', 'the', 'lazy', 'dog']\n",
      "[3, 5, 5, 3, 5, 4, 3, 4, 3]\n",
      "[['THE', 'the', 3], ['QUICK', 'quick', 5], ['BROWN', 'brown', 5], ['FOX', 'fox', 3], ['JUMPS', 'jumps', 5], ['OVER', 'over', 4], ['THE', 'the', 3], ['LAZY', 'lazy', 4], ['DOG', 'dog', 3]]\n",
      "['quick', 'brown', 'jumps', 'over', 'lazy']\n"
     ]
    }
   ],
   "source": [
    "words = ['The', 'quick', 'brown', 'fox', 'jumps', 'over', 'the', 'lazy', 'dog']\n",
    "\n",
    "#Upper case words\n",
    "print([x.upper() for x in words])\n",
    "\n",
    "#Lower case words\n",
    "print([x.lower() for x in words])\n",
    "\n",
    "#Length of word\n",
    "print([len(x) for x in words])\n",
    "\n",
    "#list containing a list for every word of list words,\n",
    "print([[x.upper(), x.lower(), len(x)] for x in words])\n",
    "\n",
    "#list of words in list words containing 4 or more characters\n",
    "print([x for x in words if len(x)>=4])\n"
   ]
  },
  {
   "cell_type": "code",
   "execution_count": null,
   "id": "0fb1e728",
   "metadata": {},
   "outputs": [],
   "source": []
  }
 ],
 "metadata": {
  "celltoolbar": "Slideshow",
  "kernelspec": {
   "display_name": "Python 3 (ipykernel)",
   "language": "python",
   "name": "python3"
  },
  "language_info": {
   "codemirror_mode": {
    "name": "ipython",
    "version": 3
   },
   "file_extension": ".py",
   "mimetype": "text/x-python",
   "name": "python",
   "nbconvert_exporter": "python",
   "pygments_lexer": "ipython3",
   "version": "3.9.7"
  }
 },
 "nbformat": 4,
 "nbformat_minor": 5
}
